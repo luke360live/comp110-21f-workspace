{
 "cells": [
  {
   "cell_type": "markdown",
   "metadata": {},
   "source": [
    "# HYPOTHESIS: There will be more freshman than seniors in comp110, and this number will be double in comparison to senior students."
   ]
  },
  {
   "cell_type": "markdown",
   "metadata": {},
   "source": [
    "The first step I need to complete is to read in the csv and create a column oriented table of data."
   ]
  },
  {
   "cell_type": "code",
   "execution_count": 133,
   "metadata": {},
   "outputs": [],
   "source": [
    "from data_utils import read_csv_rows, columnar\n",
    "\n",
    "data_rows: list[dict[str, str]] = read_csv_rows('../../data/survey.csv')\n",
    "columns: dict[str, list[str]] = columnar(data_rows, 'data_rows')\n",
    "%reload_ext autoreload\n",
    "%autoreload 2\n",
    "\n"
   ]
  },
  {
   "cell_type": "markdown",
   "metadata": {},
   "source": [
    "I then next select the year 22 (seniors) and the year 25 (freshman) to see how many of each are in the class. "
   ]
  },
  {
   "cell_type": "code",
   "execution_count": 134,
   "metadata": {},
   "outputs": [
    {
     "name": "stdout",
     "output_type": "stream",
     "text": [
      "Total number of Freshmen: 93 \n",
      "Total number of Seniors: 74 \n"
     ]
    }
   ],
   "source": [
    "from data_utils import head, select, count\n",
    "subset: dict[str, list[str]] = select(columns, [\"year\", 'would_recommend'])\n",
    "counts = count(subset['year'])\n",
    "print(f\"Total number of Freshmen: {counts['25']} \")\n",
    "print(f\"Total number of Seniors: {counts['22']} \")\n",
    "\n",
    "\n"
   ]
  },
  {
   "cell_type": "markdown",
   "metadata": {},
   "source": [
    "As seen above, there are 74 seniors and 93 freshman. In this next function I will determine the difference between the two classes"
   ]
  },
  {
   "cell_type": "code",
   "execution_count": 135,
   "metadata": {},
   "outputs": [
    {
     "data": {
      "text/plain": [
       "19"
      ]
     },
     "execution_count": 135,
     "metadata": {},
     "output_type": "execute_result"
    }
   ],
   "source": [
    "from data_utils import difference\n",
    "difference(counts['25'], counts['22'])"
   ]
  },
  {
   "cell_type": "markdown",
   "metadata": {},
   "source": [
    "As seen above there is a difference of 19 between the two classes. In this next function, I divide the amount of freshmen by the amount of seniors to filter and determine if the freshmen class is double the size of the senior class"
   ]
  },
  {
   "cell_type": "code",
   "execution_count": 129,
   "metadata": {},
   "outputs": [
    {
     "data": {
      "text/plain": [
       "1.2567567567567568"
      ]
     },
     "execution_count": 129,
     "metadata": {},
     "output_type": "execute_result"
    }
   ],
   "source": [
    "from data_utils import division\n",
    "division(counts['25'], counts['22'])"
   ]
  },
  {
   "cell_type": "markdown",
   "metadata": {},
   "source": [
    "# CONCLUSION:\n",
    "\n",
    "As seen above there was only a difference of 19 students between the senior and freshman class. The freshman class is actually 1.25 times larger than the senior class, and no where near double it. This suprised me as I beleived there would be far more freshman who would be starting their computer science major, in comparison to seniors finishing degree requirements. While I did partially support my hypothesis in the fact that there are more freshman, the scale of this difference is not as large as I forsaw. "
   ]
  }
 ],
 "metadata": {
  "interpreter": {
   "hash": "949777d72b0d2535278d3dc13498b2535136f6dfe0678499012e853ee9abcab1"
  },
  "kernelspec": {
   "display_name": "Python 3.9.6 64-bit",
   "language": "python",
   "name": "python3"
  },
  "language_info": {
   "codemirror_mode": {
    "name": "ipython",
    "version": 3
   },
   "file_extension": ".py",
   "mimetype": "text/x-python",
   "name": "python",
   "nbconvert_exporter": "python",
   "pygments_lexer": "ipython3",
   "version": "3.9.6"
  },
  "orig_nbformat": 4
 },
 "nbformat": 4,
 "nbformat_minor": 2
}
